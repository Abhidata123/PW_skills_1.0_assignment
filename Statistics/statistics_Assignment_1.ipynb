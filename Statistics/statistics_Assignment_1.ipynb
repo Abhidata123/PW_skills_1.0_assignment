{
 "cells": [
  {
   "cell_type": "markdown",
   "metadata": {},
   "source": [
    "Q1. What is Statistics?"
   ]
  },
  {
   "attachments": {},
   "cell_type": "markdown",
   "metadata": {},
   "source": [
    "tatistics is a branch of mathematics that deals with the collection, analysis, interpretation, presentation, and organization of data. It involves the use of various methods and techniques to make sense of large datasets, understand relationships between variables, and draw conclusions about populations based on samples."
   ]
  },
  {
   "attachments": {},
   "cell_type": "markdown",
   "metadata": {},
   "source": [
    "Q2. Define the different types of statistics and give an example of when each type might be used."
   ]
  },
  {
   "attachments": {},
   "cell_type": "markdown",
   "metadata": {},
   "source": [
    "There are two main types of statistics: descriptive statistics and inferential statistics.\n",
    "\n",
    "Descriptive Statistics: Descriptive statistics involves summarizing and describing the characteristics of a dataset. It is used to present and analyze data in a meaningful way. Some examples of descriptive statistics include:\n",
    "Measures of central tendency: Mean, median, and mode are measures of central tendency that indicate the average value of a dataset.\n",
    "Measures of variability: Range, variance, and standard deviation are measures of variability that describe how spread out the values in a dataset are.\n",
    "Frequency distribution: A frequency distribution shows the number of times each value appears in a dataset.\n",
    "Example: A researcher might use descriptive statistics to analyze the results of a survey about customer satisfaction. They could calculate the mean score, the standard deviation, and create a frequency distribution of the responses.\n",
    "\n",
    "Inferential Statistics: Inferential statistics involves drawing conclusions and making predictions about a population based on a sample of data. It is used to test hypotheses and make generalizations about a larger group. Some examples of inferential statistics include:\n",
    "Hypothesis testing: Hypothesis testing involves using statistical methods to determine whether a hypothesis about a population is likely to be true or false.\n",
    "Confidence intervals: A confidence interval is a range of values within which we can be confident that the population parameter falls.\n",
    "Regression analysis: Regression analysis is a statistical method used to examine the relationship between two or more variables.\n",
    "Example: A pharmaceutical company might use inferential statistics to test the efficacy of a new drug. They could conduct a randomized controlled trial on a sample of patients and use statistical methods to determine whether the drug is effective for the larger population."
   ]
  },
  {
   "attachments": {},
   "cell_type": "markdown",
   "metadata": {},
   "source": [
    "Q3. What are the different types of data and how do they differ from each other? Provide an example of\n",
    "each type of data."
   ]
  },
  {
   "cell_type": "markdown",
   "metadata": {},
   "source": []
  },
  {
   "attachments": {},
   "cell_type": "markdown",
   "metadata": {},
   "source": [
    "Q4. Categorise the following datasets with respect to quantitative and qualitative data types:\n",
    "(i) Grading in exam: A+, A, B+, B, C+, C, D, E\n",
    "(ii) Colour of mangoes: yellow, green, orange, red\n",
    "(iii) Height data of a class: [178.9, 179, 179.5, 176, 177.2, 178.3, 175.8,...]\n",
    "(iv) Number of mangoes exported by a farm: [500, 600, 478, 672, ...]"
   ]
  },
  {
   "cell_type": "markdown",
   "metadata": {},
   "source": []
  },
  {
   "attachments": {},
   "cell_type": "markdown",
   "metadata": {},
   "source": [
    "Q5. Explain the concept of levels of measurement and give an example of a variable for each level."
   ]
  },
  {
   "cell_type": "markdown",
   "metadata": {},
   "source": []
  },
  {
   "attachments": {},
   "cell_type": "markdown",
   "metadata": {},
   "source": [
    "Q6. Why is it important to understand the level of measurement when analyzing data? Provide an\n",
    "example to illustrate your answer."
   ]
  },
  {
   "cell_type": "markdown",
   "metadata": {},
   "source": []
  },
  {
   "attachments": {},
   "cell_type": "markdown",
   "metadata": {},
   "source": [
    "Q7. How nominal data type is different from ordinal data type."
   ]
  },
  {
   "cell_type": "markdown",
   "metadata": {},
   "source": []
  },
  {
   "attachments": {},
   "cell_type": "markdown",
   "metadata": {},
   "source": [
    "Q8. Which type of plot can be used to display data in terms of range?"
   ]
  },
  {
   "cell_type": "markdown",
   "metadata": {},
   "source": []
  },
  {
   "attachments": {},
   "cell_type": "markdown",
   "metadata": {},
   "source": [
    "Q9. Describe the difference between descriptive and inferential statistics. Give an example of each\n",
    "type of statistics and explain how they are used.\n"
   ]
  },
  {
   "cell_type": "markdown",
   "metadata": {},
   "source": []
  },
  {
   "attachments": {},
   "cell_type": "markdown",
   "metadata": {},
   "source": [
    "Q10. What are some common measures of central tendency and variability used in statistics? Explain\n",
    "how each measure can be used to describe a dataset."
   ]
  }
 ],
 "metadata": {
  "language_info": {
   "name": "python"
  },
  "orig_nbformat": 4
 },
 "nbformat": 4,
 "nbformat_minor": 2
}
